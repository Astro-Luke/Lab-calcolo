{
 "cells": [
  {
   "cell_type": "code",
   "execution_count": null,
   "id": "ad0cd661-5160-4465-b3c8-a68e31ca770c",
   "metadata": {},
   "outputs": [],
   "source": [
    "import numpy as np\n",
    "import matplotlib.pyplot as plt\n",
    "import random"
   ]
  },
  {
   "cell_type": "markdown",
   "id": "4771185b-5797-4ea7-83ee-64ea201de47d",
   "metadata": {},
   "source": [
    "Si scriva una funzione che simuli il cammino degli abitanti del villaggio dopo aver bevuto la grappa,\n",
    "assumendo che si spostino in piano, che ogni passo abbia direzione casuale uniforme angolarmente\n",
    "ed una lunghezza distribuita secondo una distribuzione Gaussiana con media 1 e larghezza 0.2,\n",
    "troncata a valori positivi."
   ]
  },
  {
   "cell_type": "code",
   "execution_count": null,
   "id": "e3c23ca8-7a3e-4f62-9780-d3d94a1c5e39",
   "metadata": {},
   "outputs": [],
   "source": [
    "def rand_range (xmin, xmax) :\n",
    "    return xmin + (xmax - xmin) * random.random ()\n",
    "\n",
    "\n",
    "def rand_TAC_gaus (mean, sigma) :\n",
    "    y_max = 1.\n",
    "    if (mu - 3. * sigma) < 0 :\n",
    "        x_sx = 0\n",
    "    else :\n",
    "        x_sx = mu - 3. * sigma\n",
    "    x = rand_range (x_sx, mu + 3. * sigma)\n",
    "    y = rand_range (0., y_max)\n",
    "    while (y > np.exp (-0.5 * ( ((x - mu) / sigma)**2)) ) :\n",
    "        x = rand_range (x_sx, mu + 3. * sigma)\n",
    "        y = rand_range (0., y_max)\n",
    "    return x\n",
    "\n",
    "\n",
    "def rand_walk (mean, sigma, N_passi) :\n",
    "    x_coord = [0.]\n",
    "    y_coord = [0.]\n",
    "    for i in range (N_passi) :\n",
    "        theta = rand_range (0., 2*np.pi)\n",
    "        ro = rand_TAC_gauss (mean, sigma)\n",
    "        x = x[-1] + ro*np.cos (theta)\n",
    "        y = y[-1] + ro*np.sin (theta)\n",
    "        x_coord.append (x)\n",
    "        y_coord.append (y)\n",
    "    return x, y\n",
    "\n",
    "\n",
    "def calcola_distanza (x_0, y_0, x_n, y_n) :\n",
    "    return np.sqrt ((x_n - x_0)**2 + (y_n - y_0)**2)"
   ]
  },
  {
   "cell_type": "code",
   "execution_count": null,
   "id": "4c84e9c4-7e44-4a45-a783-e23b605c643e",
   "metadata": {},
   "outputs": [],
   "source": [
    "mean = 1.\n",
    "sigma = 0.2\n",
    "N_passi = 10\n",
    "\n",
    "x_coord, y_coord = rand_walk (mean, sigma, N_passi)\n",
    "x_array = np.array (x_coord)\n",
    "y_array = np.array (y_coord)\n",
    "\n",
    "distanza = calcola_distanza (0., 0., x[10], y[10])\n",
    "print (\"La distanza dal punto di partenza (0, 0) al punto\", \"(x, y) = (\", x_array[10], \",\", \n",
    "           y_array[10], \") è: \\n\", distanza, \"\\n\")\n",
    "\n",
    "# Grafico\n",
    "fig, ax = plt.subplots ()\n",
    "ax.plot (coord_x, coord_y, \"o-\", color = \"blue\")\n",
    "ax.set_xlabel (\"x\")\n",
    "ax.set_ylabel (\"y\")\n",
    "ax.grid ()\n",
    "\n",
    "plt.show ()"
   ]
  }
 ],
 "metadata": {
  "kernelspec": {
   "display_name": "Python 3 (ipykernel)",
   "language": "python",
   "name": "python3"
  },
  "language_info": {
   "codemirror_mode": {
    "name": "ipython",
    "version": 3
   },
   "file_extension": ".py",
   "mimetype": "text/x-python",
   "name": "python",
   "nbconvert_exporter": "python",
   "pygments_lexer": "ipython3",
   "version": "3.13.1"
  }
 },
 "nbformat": 4,
 "nbformat_minor": 5
}
