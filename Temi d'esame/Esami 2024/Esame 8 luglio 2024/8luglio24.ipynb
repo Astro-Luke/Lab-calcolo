{
 "cells": [
  {
   "cell_type": "code",
   "execution_count": 1,
   "id": "ad0cd661-5160-4465-b3c8-a68e31ca770c",
   "metadata": {},
   "outputs": [],
   "source": [
    "import numpy as np\n",
    "import matplotlib.pyplot as plt\n",
    "import random"
   ]
  },
  {
   "cell_type": "markdown",
   "id": "4771185b-5797-4ea7-83ee-64ea201de47d",
   "metadata": {},
   "source": [
    "Si scriva una funzione che simuli il cammino degli abitanti del villaggio dopo aver bevuto la grappa,\n",
    "assumendo che si spostino in piano, che ogni passo abbia direzione casuale uniforme angolarmente\n",
    "ed una lunghezza distribuita secondo una distribuzione Gaussiana con media 1 e larghezza 0.2,\n",
    "troncata a valori positivi."
   ]
  },
  {
   "cell_type": "code",
   "execution_count": 2,
   "id": "e3c23ca8-7a3e-4f62-9780-d3d94a1c5e39",
   "metadata": {},
   "outputs": [],
   "source": [
    "def rand_range (xmin, xmax) :\n",
    "    return xmin + (xmax - xmin) * random.random ()\n",
    "\n",
    "\n",
    "def rand_TAC_gauss (mu, sigma) :\n",
    "    y_max = 1.\n",
    "    if (mu - 3. * sigma) < 0 :\n",
    "        x_sx = 0\n",
    "    else :\n",
    "        x_sx = mu - 3. * sigma\n",
    "    x = rand_range (x_sx, mu + 3. * sigma)\n",
    "    y = rand_range (0., y_max)\n",
    "    while (y > np.exp (-0.5 * ( ((x - mu) / sigma)**2)) ) :\n",
    "        x = rand_range (x_sx, mu + 3. * sigma)\n",
    "        y = rand_range (0., y_max)\n",
    "    return x\n",
    "\n",
    "\n",
    "def rand_walk (mean, sigma, N_passi) :\n",
    "    x_coord = [0.]\n",
    "    y_coord = [0.]\n",
    "    for i in range (N_passi) :\n",
    "        theta = rand_range (0., 2*np.pi)\n",
    "        ro = rand_TAC_gauss (mean, sigma)\n",
    "        x = x_coord[-1] + ro*np.cos (theta)\n",
    "        y = y_coord[-1] + ro*np.sin (theta)\n",
    "        x_coord.append (x)\n",
    "        y_coord.append (y)\n",
    "    return x_coord, y_coord\n",
    "\n",
    "\n",
    "def calcola_distanza (x_0, x_n, y_0, y_n) :\n",
    "    return np.sqrt ((x_n - x_0)**2 + (y_n - y_0)**2)"
   ]
  },
  {
   "cell_type": "markdown",
   "id": "341204ca-85e6-4831-902c-38acab892009",
   "metadata": {},
   "source": [
    "Immaginando che il calderone si trovi alle coordinate $(0, 0)$ sul piano, si scriva una funzione che\n",
    "calcoli la posizione (x, y) raggiunta da Asterix dopo $N = 10$ passi e si disegni il suo percorso."
   ]
  },
  {
   "cell_type": "code",
   "execution_count": 3,
   "id": "4c84e9c4-7e44-4a45-a783-e23b605c643e",
   "metadata": {},
   "outputs": [
    {
     "name": "stdout",
     "output_type": "stream",
     "text": [
      "La distanza dal punto di partenza (0, 0) al punto (x, y) = ( 2.8123212465617384 , 1.3603331393520075 ) è: \n",
      " 3.124044981091319 \n",
      "\n"
     ]
    },
    {
     "data": {
      "image/png": "[encoded data removed]",
      "text/plain": [
       "<Figure size 640x480 with 1 Axes>"
      ]
     },
     "metadata": {},
     "output_type": "display_data"
    }
   ],
   "source": [
    "# Punto 1 e 2\n",
    "mean = 1.\n",
    "sigma = 0.2\n",
    "N_passi = 10\n",
    "coord_x, coord_y = rand_walk (mean, sigma, N_passi)\n",
    "\n",
    "#print (\"\\n\", coord_x, \"\\n\")\n",
    "#print (coord_y)\n",
    "\n",
    "# calcolo la distanza tra il punto (x, y) = (0, 0) ed il punto raggiunto\n",
    "coord_x_array = np.array (coord_x)\n",
    "coord_y_array = np.array (coord_y)\n",
    "\n",
    "distanza = calcola_distanza (0., coord_x_array[10], 0., coord_y_array[10])    \n",
    "print (\"La distanza dal punto di partenza (0, 0) al punto\", \"(x, y) = (\", coord_x_array[10], \",\", coord_y_array[10], \") è: \\n\", distanza, \"\\n\")\n",
    "\n",
    "# Grafico\n",
    "fig, ax = plt.subplots ()\n",
    "ax.plot (coord_x, coord_y, \"o-\", color = \"blue\")\n",
    "ax.set_xlabel (\"x\")\n",
    "ax.set_ylabel (\"y\")\n",
    "ax.grid ()\n",
    "\n",
    "plt.show ()"
   ]
  },
  {
   "cell_type": "markdown",
   "id": "0b75d7ed-1131-46a9-98fd-6565db8750d6",
   "metadata": {},
   "source": [
    "Si consideri ora l’intera popolazione: si determini la posizione $(x, y)$ di ogni abitante dopo $N =\n",
    "10$ passi a partire dal calderone e si disegni le distribuzione della distanza raggiunta dal punto di\n",
    "partenza, assumendo la popolazione totale composta da 10000 persone."
   ]
  },
  {
   "cell_type": "code",
   "execution_count": 4,
   "id": "22f51221-d261-446b-af9c-3acf18c0323a",
   "metadata": {},
   "outputs": [],
   "source": [
    "N_persone = 10000\n",
    "lista_distanze = []\n",
    "for i in range (N_persone) :\n",
    "    coord_x, coord_y = rand_walk (mean, sigma, N_passi)\n",
    "    distanza = calcola_distanza (0., coord_x[10], 0., coord_y[10])    \n",
    "    lista_distanze.append (distanza)\n",
    "    \n",
    "#print (lista_distanze)\n",
    "\n",
    "def sturges (N_eventi) :\n",
    "    return int (np.ceil (1 + np.log2 (N_eventi)))\n",
    "\n",
    "Nbin = sturges (len(lista_distanze))\n",
    "bin_content, bin_edges = np.histogram (lista_distanze, bins=Nbin, range = (min (lista_distanze), max(lista_distanze)))"
   ]
  },
  {
   "cell_type": "markdown",
   "id": "1badc325-e243-438f-835e-e139cbb6bbce",
   "metadata": {},
   "source": [
    "Si determinino media, varianza, asimmetria e curtosi della distribuzione ottenuta"
   ]
  },
  {
   "cell_type": "code",
   "execution_count": 5,
   "id": "eb8429a6-be51-44fa-9647-0d7a84f760fe",
   "metadata": {},
   "outputs": [],
   "source": [
    "# Media con array\n",
    "def media (sample) :\n",
    "    mean = np.sum(sample)/len(sample)\n",
    "    return mean\n",
    "\n",
    "# ---- ---- ---- ---- ---- ---- ---- ---- ---- ---- ---- ---- ----\n",
    "\n",
    "# Varianza con corr. di Bessel con array\n",
    "def varianza (sample) :\n",
    "    somma_quadrata = 0\n",
    "    somma_quadrata = np.sum( (sample - media(sample))**2 )\n",
    "    var = somma_quadrata/(len(sample) - 1)\n",
    "    return var\n",
    "\n",
    "# ---- ---- ---- ---- ---- ---- ---- ---- ---- ---- ---- ---- ----\n",
    "\n",
    "# Deviaz. standard con array\n",
    "def dev_std (sample) :\n",
    "    sigma = np.sqrt (varianza(sample))\n",
    "    return sigma\n",
    "\n",
    "# ---- ---- ---- ---- ---- ---- ---- ---- ---- ---- ---- ---- ----\n",
    "\n",
    "# Deviaz. standard della media con array\n",
    "def dev_std_media (sample) :\n",
    "    return dev_std(sample) / (np.sqrt( len(sample) ))\n",
    "\n",
    "# ---- ---- ---- ---- ---- ---- ---- ---- ---- ---- ---- ---- ----\n",
    "\n",
    "# Skewness con array\n",
    "def skewness (sample) :\n",
    "    mean = media (sample)  # Calcola la media con la tua funzione\n",
    "    sigma = dev_std (sample)  # Calcola la deviazione standard con la tua funzione\n",
    "    n = len(sample)\n",
    "    skew = np.sum((sample - mean)**3) / (n * sigma**3)\n",
    "    return skew\n",
    "\n",
    "# ---- ---- ---- ---- ---- ---- ---- ---- ---- ---- ---- ---- ----\n",
    "\n",
    "# Curtosi con array\n",
    "def kurtosis (sample) :\n",
    "    mean = media (sample)  # Calcola la media con la tua funzione\n",
    "    variance = varianza (sample)  # Calcola la varianza con la tua funzione\n",
    "    n = len(sample)\n",
    "    kurt = np.sum((sample - mean)**4) / (n * variance**2) - 3\n",
    "    return kurt"
   ]
  },
  {
   "cell_type": "code",
   "execution_count": 6,
   "id": "e302b40f-1f2b-45fb-9a1a-4e3e7380bdba",
   "metadata": {},
   "outputs": [
    {
     "name": "stdout",
     "output_type": "stream",
     "text": [
      "\n",
      "Media della distribuzione:  2.8785141453812866\n",
      "\n",
      "Varianza della distribuzione:  2.1511670430364136\n",
      "\n",
      "Asimmetria della distribuzione:  0.523197176811083\n",
      "\n",
      "Curtosi della distribuzione:  -0.03804580999332341\n"
     ]
    }
   ],
   "source": [
    "print ('\\nMedia della distribuzione: ', media (lista_distanze))\n",
    "print ('\\nVarianza della distribuzione: ', varianza (lista_distanze))\n",
    "print ('\\nAsimmetria della distribuzione: ', skewness (lista_distanze))\n",
    "print ('\\nCurtosi della distribuzione: ', kurtosis (lista_distanze))"
   ]
  },
  {
   "cell_type": "markdown",
   "id": "f1ac0987-135b-4343-b19a-9374ea7b23ce",
   "metadata": {},
   "source": [
    "Se la lunghezza dei passi è costante uguale ad 1, la distribuzione delle distanze r dopo N passi segue una distribuzione di Rayleigh:\n",
    "$f(r) = \\frac{2r}{N} e^{\\frac{r^2}{N}}$.\n",
    "Si utilizzi un fit per determinare, a partire dalla distribuzione di distanze costruita in queste ipotesi, il numero di passi effettuati, sapendo che la distribuzione di Rayleigh è presente in scipy come scipy.stats.rayleigh e che per ottenere la forma funzionale di interesse per il problema questa distribuzione ha come parametri $loc = 0$ e $scale = N/2$ (dove N è il numero di passi)."
   ]
  },
  {
   "cell_type": "code",
   "execution_count": null,
   "id": "b2905c6a-4af4-4942-bd56-0952af6638ad",
   "metadata": {},
   "outputs": [],
   "source": []
  }
 ],
 "metadata": {
  "kernelspec": {
   "display_name": "Python 3 (ipykernel)",
   "language": "python",
   "name": "python3"
  },
  "language_info": {
   "codemirror_mode": {
    "name": "ipython",
    "version": 3
   },
   "file_extension": ".py",
   "mimetype": "text/x-python",
   "name": "python",
   "nbconvert_exporter": "python",
   "pygments_lexer": "ipython3",
   "version": "3.13.1"
  }
 },
 "nbformat": 4,
 "nbformat_minor": 5
}
