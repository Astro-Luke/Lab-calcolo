{
 "cells": [
  {
   "cell_type": "markdown",
   "id": "10281a7d-95c8-4344-93f3-35d9903cd6a4",
   "metadata": {},
   "source": [
    "# Corso di Laurea in Fisica\n",
    "# Prova di esame - Laboratorio di Calcolo e Statistica\n",
    "19 febbraio 2024"
   ]
  },
  {
   "cell_type": "markdown",
   "id": "95869932-b2b2-4e00-ad5f-9dd885dbefb8",
   "metadata": {},
   "source": [
    "## Indicazioni generali\n",
    "Si risolva il seguente esercizio, scrivendo un programma in C++ o in Python ed organizzando il codice sorgente in modo che le funzioni utilizzate risultino implementate in librerie separate del programma principale. Ai fini della valutazione, il primo criterio che deve essere soddisfatto è che il codice sia eseguibile senza errori (inclusi quelli di compilazione, nel caso del C++) realizzando le funzionalità richieste\n",
    "dal testo. Per la valutazione sarà inoltre tenuto in considerazione il fatto che i codici sorgente siano scritti con ordine, utilizzando opportunamente l’indentazione e i commenti. Per gli svolgimenti in C++, si richiede infine di iniziare i codici con una riga di commento contenente il comando necessario per creare\n",
    "l’eseguibile."
   ]
  },
  {
   "cell_type": "markdown",
   "id": "b2b21a94-bffd-4bbd-b16a-7f6d47507aca",
   "metadata": {},
   "source": [
    "# Un Dataset da Nobel\n",
    "L’espansione dell’universo fu determinata da Edwyn Hubble nel 1929 osservando, nelle galassie visibili\n",
    "dalla TERRA, un legame matematico fra la loro distanza DL ed il loro redshift z, che è uno spostamento\n",
    "Doppler verso frequenze più basse del loro colore naturale 1\n",
    ". Oggi queste misure vegono svolte osservando un tipo particolare di supernova, dette A1 e le misure correnti vengono utilizzate per decidere se\n",
    "l’universo sia destinata a continuare o se prima o poi tornerà a contrarsi, con decelerazione q. In assenza\n",
    "di decelerazione, l’espansione dell’universo è descritta da un andamento lineare: $D_L =\n",
    "\\frac{zc}{H_0}$ dove $c = 3 · 105 km/s$ è la velocità della luce nel vuoto, mentre H0 è una costante di proporzionalità detta\n",
    "costante di Hubble."
   ]
  },
  {
   "cell_type": "markdown",
   "id": "f6885eb7-2f22-45e8-a5ce-cf6a75508f6a",
   "metadata": {},
   "source": [
    "1. Si legga il file SuperNovae.txt e si salvino i dati in tre liste (o array). La prima colonna è il redshift,\n",
    "la seconda la distanza e la terza l’errore sulla distanza."
   ]
  },
  {
   "cell_type": "code",
   "execution_count": 1,
   "id": "51415591-ef90-4343-b3df-0d509971bff9",
   "metadata": {},
   "outputs": [],
   "source": [
    "import numpy as np\n",
    "import matplotlib.pyplot as plt\n",
    "import random\n",
    "from iminuit import Minuit\n",
    "from iminuit.cost import LeastSquares"
   ]
  },
  {
   "cell_type": "markdown",
   "id": "45ad0a48-6f88-408e-9022-239abd9d27e8",
   "metadata": {},
   "source": [
    "Funzioni utilizzate lungo il programma"
   ]
  },
  {
   "cell_type": "code",
   "execution_count": 2,
   "id": "1fed2ca5-90da-462a-a68a-de3b245a9174",
   "metadata": {},
   "outputs": [],
   "source": [
    "# Legge di Hubble\n",
    "def legge_hubble (z, H0) :\n",
    "    c = 3*(10**5)\n",
    "    D = (z * c)/H0\n",
    "    return D\n",
    "\n",
    "\n",
    "def legge_hubble_acc (z, H0, omega) :\n",
    "    c = 3*(10**5)\n",
    "    q = ((3*omega)/2) - 1\n",
    "    D = (c/H0) * (z + 0.5*(1-q)*(z**2))\n",
    "    return D\n",
    "\n",
    "\n",
    "def rand_range (x_min, x_max) :\n",
    "    return x_min + (x_max - x_min) * random.random ()\n",
    "\n",
    "\n",
    "def q (omega) :\n",
    "    q = ((3*omega)/2) -1\n",
    "    return q\n",
    "\n",
    "# Funzione che esegue il fit \n",
    "def esegui_fit (x, y, sigma, dizionario_par, funzione_fit) :\n",
    "\n",
    "    if not (isinstance(dizionario_par, dict)) :\n",
    "        print (\"Inserisci un dizionario come quarto parametro.\\n\")\n",
    "        sys.exit()\n",
    "\n",
    "    least_squares = LeastSquares (x, y, sigma, funzione_fit)\n",
    "    my_minuit = Minuit (least_squares, **dizionario_par)\n",
    "    my_minuit.migrad ()                                 \n",
    "    my_minuit.hesse ()                                  \n",
    "\n",
    "    is_valid = my_minuit.valid\n",
    "    Q_squared = my_minuit.fval\n",
    "    N_dof = my_minuit.ndof\n",
    "    matrice_cov = my_minuit.covariance\n",
    "\n",
    "    diz_risultati = {\n",
    "        \"Validità\": is_valid, \n",
    "        \"Qsquared\": Q_squared,\n",
    "        \"Ndof\": N_dof,\n",
    "        \"Param\": my_minuit.parameters,\n",
    "        \"Value\": my_minuit.values,\n",
    "        \"Errori\": my_minuit.errors,\n",
    "        \"MatriceCovarianza\": matrice_cov\n",
    "    }\n",
    "\n",
    "    return diz_risultati\n",
    "\n",
    "\n",
    "def leggi_file_dati (nome_file) :\n",
    "    '''\n",
    "    Legge un file di dati con valori separati da spazi e lo converte in un array NumPy.\n",
    "    Argomenti: nome del file (ad esempio mettendo nome_file = \"SuperNovae.txt\") assicurandosi che sia nella stessa directory\n",
    "    Return: tuple, un array NumPy con i dati e il numero di righe del file.\n",
    "    '''\n",
    "    with open (nome_file, 'r') as file:\n",
    "        lines = file.readlines ()\n",
    "        lista_dati = []\n",
    "        \n",
    "        for line in lines:\n",
    "            lista_string = line.split()\n",
    "            list_float = [float(x) for x in lista_string]\n",
    "            lista_dati.append (list_float)\n",
    "        \n",
    "        sample = np.array (lista_dati)\n",
    "        N_righe = int (len (sample))\n",
    "    \n",
    "    return sample, N_righe              # attenzione che ritorna due valori (array e int)!!!"
   ]
  },
  {
   "cell_type": "code",
   "execution_count": 3,
   "id": "d487539f-7166-4f44-b1b7-432105b987b0",
   "metadata": {},
   "outputs": [],
   "source": [
    "redshift, distanza, errore = np.loadtxt ('SuperNovae.txt', unpack = True)"
   ]
  },
  {
   "cell_type": "markdown",
   "id": "d4f101c0-e788-4a41-85d9-1fd6fd9fd79f",
   "metadata": {},
   "source": [
    "Si esegua un fit dei dati utilizzando il modello lineare e si stampi la costante di Hubble incluso il suo\n",
    "errore."
   ]
  },
  {
   "cell_type": "code",
   "execution_count": 4,
   "id": "f74de1a7-c0a2-4b48-bda4-9b1effe6c054",
   "metadata": {},
   "outputs": [
    {
     "name": "stdout",
     "output_type": "stream",
     "text": [
      "\n",
      "Esito del Fit:  True\n",
      "\n",
      "Valore del Q-quadro:  841.2764482318937\n",
      "\n",
      "Numero di gradi di libertà:  410.0 \n",
      "\n",
      "Matrice di covarianza:\n",
      " ┌────┬────────┐\n",
      "│    │     H0 │\n",
      "├────┼────────┤\n",
      "│ H0 │ 0.0545 │\n",
      "└────┴────────┘\n",
      "H0 = 63.846059 +/- 0.233424\n",
      "\n"
     ]
    }
   ],
   "source": [
    "# Dizionario per il fit\n",
    "diz_para = {\n",
    "    \"H0\": 1.,\n",
    "}\n",
    "\n",
    "diz_result = esegui_fit (redshift, distanza, errore, diz_para, legge_hubble)\n",
    "\n",
    "print (\"\\nEsito del Fit: \", diz_result[\"Validità\"])\n",
    "print (\"\\nValore del Q-quadro: \", diz_result[\"Qsquared\"])\n",
    "print (\"\\nNumero di gradi di libertà: \", diz_result[\"Ndof\"], \"\\n\")\n",
    "print(\"Matrice di covarianza:\\n\", diz_result[\"MatriceCovarianza\"])\n",
    "\n",
    "for param, value, errore in zip (diz_result[\"Param\"], diz_result[\"Value\"], diz_result[\"Errori\"]) : \n",
    "        print (f'{param} = {value:.6f} +/- {errore:.6f}\\n')"
   ]
  },
  {
   "cell_type": "markdown",
   "id": "0c93ba64-e24f-4416-817c-cc24577ff106",
   "metadata": {},
   "source": [
    "Si esegua il fit dei dati utilizzando un modello che preveda decelerazione dell’universo:\n",
    "$D_L = \\frac{c}{H_0} (z + \\frac{1}{2}(1-q)z^2)$\n",
    "facendo un grafico con i dati ed i due modelli sovrapposti (utilizzando ax.legend() per identificarli),\n",
    "decidendo quale dei due si adatti meglio ai dati. Si determinino il valore della costante di Hubble\n",
    "ed il valore medio della densità dell’universo Ωm ed il loro errore, sapendo che:\n",
    "$q = \\frac{3 \\Omega_m}{2} -1$"
   ]
  },
  {
   "cell_type": "code",
   "execution_count": 5,
   "id": "056f046d-4835-4e9e-bebc-a34ca90de1f9",
   "metadata": {},
   "outputs": [
    {
     "name": "stdout",
     "output_type": "stream",
     "text": [
      "\n",
      "Esito del Fit:  True\n",
      "\n",
      "Valore del Q-quadro:  199533412.89317957\n",
      "\n",
      "Numero di gradi di libertà:  409.0 \n",
      "\n",
      "Matrice di covarianza:\n",
      " ┌───────┬───────────────────┐\n",
      "│       │       H0    omega │\n",
      "├───────┼───────────────────┤\n",
      "│    H0 │ 8.67e-06 -0.55e-6 │\n",
      "│ omega │ -0.55e-6 3.58e-08 │\n",
      "└───────┴───────────────────┘\n",
      "H0 = 69.206183 +/- 0.002945\n",
      "\n",
      "omega = 0.363401 +/- 0.000189\n",
      "\n"
     ]
    }
   ],
   "source": [
    "diz_para_acc = {\n",
    "    \"H0\": 1., \n",
    "    \"omega\": 1.\n",
    "}\n",
    "\n",
    "diz_result_acc = esegui_fit (redshift, distanza, errore, diz_para_acc, legge_hubble_acc)\n",
    "\n",
    "print (\"\\nEsito del Fit: \", diz_result_acc[\"Validità\"])\n",
    "print (\"\\nValore del Q-quadro: \", diz_result_acc[\"Qsquared\"])\n",
    "print (\"\\nNumero di gradi di libertà: \", diz_result_acc[\"Ndof\"], \"\\n\")\n",
    "print(\"Matrice di covarianza:\\n\", diz_result_acc[\"MatriceCovarianza\"])\n",
    "\n",
    "for param, value, errore in zip (diz_result_acc[\"Param\"], diz_result_acc[\"Value\"], diz_result_acc[\"Errori\"]) : \n",
    "        print (f'{param} = {value:.6f} +/- {errore:.6f}\\n')"
   ]
  },
  {
   "cell_type": "code",
   "execution_count": 6,
   "id": "e5e9590a-3540-47ff-9f2f-a2a6d91121dd",
   "metadata": {},
   "outputs": [
    {
     "data": {
      "image/png": "[encoded data removed]",
      "text/plain": [
       "<Figure size 640x480 with 1 Axes>"
      ]
     },
     "metadata": {},
     "output_type": "display_data"
    }
   ],
   "source": [
    "x_fit = np.linspace (min (redshift), max (redshift), len(redshift))\n",
    "y_fit = legge_hubble (x_fit, *diz_result[\"Value\"])\n",
    "y_fit_acc = legge_hubble_acc (x_fit, *diz_result_acc[\"Value\"])\n",
    "\n",
    "fig, ax = plt.subplots ()\n",
    "ax.errorbar (redshift, distanza, xerr = 0.0, yerr = errore, markersize = 2.5,                             # dimensione del punto\n",
    "        fmt = 'o',                                  # tipo di marker (punto)\n",
    "        color = 'blue',                             # colore della linea\n",
    "        ecolor = 'red',                             # colore della barra di error\n",
    "        )\n",
    "ax.plot (x_fit, y_fit, label = 'legge Hubble lineare', color = 'orange')\n",
    "ax.plot (x_fit, y_fit_acc, label = 'legge Hubble accelerata', color = 'green')\n",
    "ax.set_title ('Plot Hubble')\n",
    "ax.set_xlabel ('Distanza (Mpc)')\n",
    "ax.set_ylabel ('Redshift (z)')\n",
    "ax.grid ()\n",
    "ax.legend ()\n",
    "\n",
    "plt.show ()"
   ]
  },
  {
   "cell_type": "markdown",
   "id": "6cf1b91c-b2ad-408c-9ba7-d86c7698860b",
   "metadata": {},
   "source": [
    "Utilizzando la generazione di numeri casuali uniformi, si generi un elenco di 30 indici nelle liste dei\n",
    "dati in ingresso a partire dal quali si costruisca un loro sotto-campione, sul quale rifare il fit con il\n",
    "modello 2."
   ]
  },
  {
   "cell_type": "code",
   "execution_count": 8,
   "id": "49fe2592-a362-4e17-b4a3-2ec48272a453",
   "metadata": {},
   "outputs": [
    {
     "name": "stdout",
     "output_type": "stream",
     "text": [
      "\n",
      "Esito del Fit:  True\n",
      "\n",
      "Valore del Q-quadro:  16.035450371553154\n",
      "\n",
      "Numero di gradi di libertà:  28.0 \n",
      "\n",
      "Matrice di covarianza:\n",
      " ┌───────┬───────────────┐\n",
      "│       │     H0  omega │\n",
      "├───────┼───────────────┤\n",
      "│    H0 │      2 -0.197 │\n",
      "│ omega │ -0.197 0.0346 │\n",
      "└───────┴───────────────┘\n",
      "H0 = 70.288024 +/- 1.413011\n",
      "\n",
      "omega = 0.405644 +/- 0.185930\n",
      "\n"
     ]
    }
   ],
   "source": [
    "N = 30               # numero di righe da selezionare\n",
    "righe_selezionate = []\n",
    "\n",
    "sample, N_righe = leggi_file_dati ('SuperNovae.txt')\n",
    "\n",
    "for _ in range (N) :\n",
    "    indice = int (rand_range (0., N_righe - 1))\n",
    "    righe_selezionate.append (sample[indice])\n",
    "\n",
    "array_selezionati = np.array (righe_selezionate)\n",
    "#print (righe_selezionate)\n",
    "\n",
    "redshift_subsample = array_selezionati[:, 0]\n",
    "distanze_subsample = array_selezionati[:, 1]\n",
    "errori_subsample = array_selezionati[:, 2]\n",
    "\n",
    "diz_result_subsample = esegui_fit (redshift_subsample, distanze_subsample, errori_subsample, diz_para_acc, legge_hubble_acc)\n",
    "\n",
    "print (\"\\nEsito del Fit: \", diz_result_subsample[\"Validità\"])\n",
    "print (\"\\nValore del Q-quadro: \", diz_result_subsample[\"Qsquared\"])\n",
    "print (\"\\nNumero di gradi di libertà: \", diz_result_subsample[\"Ndof\"], \"\\n\")\n",
    "print(\"Matrice di covarianza:\\n\", diz_result_subsample[\"MatriceCovarianza\"])\n",
    "\n",
    "for param, value, errore in zip (diz_result_subsample[\"Param\"], diz_result_subsample[\"Value\"], diz_result_subsample[\"Errori\"]) : \n",
    "        print (f'{param} = {value:.6f} +/- {errore:.6f}\\n')"
   ]
  },
  {
   "cell_type": "markdown",
   "id": "c554ca9d-7efc-4f1a-bfd9-1998845e568b",
   "metadata": {},
   "source": [
    "Ripetendo il punto precedente 50 volte si costruisca la distribuzione attesa del parametro q e della\n",
    "costante di Hubble."
   ]
  },
  {
   "cell_type": "code",
   "execution_count": null,
   "id": "a05cb7f3-23ab-4b7c-a51c-3ac143f3fa65",
   "metadata": {},
   "outputs": [],
   "source": [
    "N = 30  \n",
    "for _ in range (50) :\n",
    "    righe_selezionate = []\n",
    "\n",
    "    sample, N_righe = leggi_file_dati ('SuperNovae.txt')\n",
    "\n",
    "    for _ in range (N) :\n",
    "        indice = int (rand_range (0., N_righe - 1))\n",
    "        righe_selezionate.append (sample[indice])\n",
    "\n",
    "    array_selezionati = np.array (righe_selezionate)\n",
    "\n",
    "    redshift_subsample = array_selezionati[:, 0]\n",
    "    distanze_subsample = array_selezionati[:, 1]\n",
    "    errori_subsample = array_selezionati[:, 2]\n",
    "\n",
    "    diz_result_subsample = esegui_fit (redshift_subsample, distanze_subsample, errori_subsample, diz_para_acc, legge_hubble_acc)\n"
   ]
  }
 ],
 "metadata": {
  "kernelspec": {
   "display_name": "Python 3 (ipykernel)",
   "language": "python",
   "name": "python3"
  },
  "language_info": {
   "codemirror_mode": {
    "name": "ipython",
    "version": 3
   },
   "file_extension": ".py",
   "mimetype": "text/x-python",
   "name": "python",
   "nbconvert_exporter": "python",
   "pygments_lexer": "ipython3",
   "version": "3.13.1"
  }
 },
 "nbformat": 4,
 "nbformat_minor": 5
}
