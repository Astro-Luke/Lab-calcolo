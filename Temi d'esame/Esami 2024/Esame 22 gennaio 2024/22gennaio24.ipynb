{
 "cells": [
  {
   "cell_type": "markdown",
   "id": "58033e41-297f-4db0-a31c-0a8fda539e45",
   "metadata": {},
   "source": [
    "# Corso di Laurea in Fisica\n",
    "## Prova di esame - Laboratorio di Calcolo e Statistica\n",
    "22 gennaio 2024"
   ]
  },
  {
   "cell_type": "markdown",
   "id": "c1b78841-471e-4088-bf57-932dbe14335a",
   "metadata": {
    "jp-MarkdownHeadingCollapsed": true
   },
   "source": [
    "## Indicazioni generali\n",
    "Si risolva il seguente esercizio, scrivendo un programma in C++ o in Python ed organizzando il codice sorgente in modo che le funzionalità opportune risultino implementate in librerie separate del programma\n",
    "principale. Ai fini della valutazione, il primo criterio che deve essere soddisfatto è che il codice sia eseguibile senza errori (inclusi quelli di compilazione, nel caso del C++) realizzando le funzionalità richieste\n",
    "dal testo. Per la valutazione sarà inoltre tenuto in considerazione il fatto che i codici sorgente siano scritti\n",
    "con ordine, utilizzando opportunamente l’indentazione e i commenti. Per gli svolgimenti in C++, si\n",
    "richiede infine di iniziare i codici con una riga di commento contenente il comando necessario per creare\n",
    "l’eseguibile"
   ]
  },
  {
   "cell_type": "markdown",
   "id": "5e529d45-5afe-47e1-89cc-b6e2763ea3e5",
   "metadata": {},
   "source": [
    "# Studio di una distribuzione di probabilità\n",
    "Sia data la seguente distribuzione di densità di probabilità:\n",
    "\n",
    "$f(x) = A cos^2(x) ∈ (0,\\frac{3}{2}\\pi)$, \n",
    "\n",
    "$f(x) = 0$ altrimenti"
   ]
  },
  {
   "cell_type": "markdown",
   "id": "d25266a4-ce0e-49c1-a670-53ad8fea3723",
   "metadata": {},
   "source": [
    "1. Si calcoli con il metodo hit-or-miss il valore che deve assumere la variabile A per fare in modo che\n",
    "la pdf f(x) sia correttamente normalizzata."
   ]
  },
  {
   "cell_type": "code",
   "execution_count": 3,
   "id": "e0aa0237-a159-42c0-8144-1016ffa5c49d",
   "metadata": {},
   "outputs": [],
   "source": [
    "import numpy as np\n",
    "import matplotlib.pyplot as plt\n",
    "import random"
   ]
  },
  {
   "cell_type": "markdown",
   "id": "0f3f32c0-4c9c-417d-830f-3adf53112c3f",
   "metadata": {},
   "source": [
    "2. Si generi un insieme di 10000 numeri pseudo-casuali xi distribuiti secondo la pdf f(x) utilizzando\n",
    "il metodo try-and-catch."
   ]
  },
  {
   "cell_type": "markdown",
   "id": "f2dadb9b-add8-4548-8c01-7859fb13d041",
   "metadata": {},
   "source": [
    "3. Si mostri in un istogramma la distribuzione degli eventi generati."
   ]
  },
  {
   "cell_type": "markdown",
   "id": "bab5946c-b520-45bd-be95-03e4b2a30765",
   "metadata": {},
   "source": [
    "4. Si calcolino, a partire dagli eventi generati, la media, deviazione standard, asimmetria e curtosi della\n",
    "distribuzione implementando le funzioni corrispondenti."
   ]
  },
  {
   "cell_type": "markdown",
   "id": "57d3ab7e-6ded-4fc7-ba8d-a46dcf2c7574",
   "metadata": {},
   "source": [
    "5. Si mostri quantitativamente che il teorema centrale del limite vale in questo caso, a partire dalla\n",
    "generazione di numeri pseudo-casuali con la tecnica del teorema centrale del limite applicata alla\n",
    "distribuzione f(x)."
   ]
  },
  {
   "cell_type": "code",
   "execution_count": null,
   "id": "0b8a7b87-27c3-4a22-9bac-55a322ee24bf",
   "metadata": {},
   "outputs": [],
   "source": []
  }
 ],
 "metadata": {
  "kernelspec": {
   "display_name": "Python 3 (ipykernel)",
   "language": "python",
   "name": "python3"
  },
  "language_info": {
   "codemirror_mode": {
    "name": "ipython",
    "version": 3
   },
   "file_extension": ".py",
   "mimetype": "text/x-python",
   "name": "python",
   "nbconvert_exporter": "python",
   "pygments_lexer": "ipython3",
   "version": "3.13.1"
  }
 },
 "nbformat": 4,
 "nbformat_minor": 5
}
